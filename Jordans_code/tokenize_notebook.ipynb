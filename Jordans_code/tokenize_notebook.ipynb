{
 "cells": [
  {
   "cell_type": "code",
   "execution_count": 2,
   "metadata": {},
   "outputs": [],
   "source": [
    "import pandas as pd\n",
    "import sqlite3 as sqlite\n",
    "from sqlite3 import Error\n",
    "import sys\n",
    "import os\n",
    "import regex as re\n",
    "import sqlalchemy\n",
    "import tqdm\n",
    "\n",
    "# import PySpark\n",
    "\n",
    "# from pyspark import SparkConf, SparkContext"
   ]
  },
  {
   "cell_type": "code",
   "execution_count": 3,
   "metadata": {},
   "outputs": [],
   "source": [
    "import spacy\n",
    "from spacy.lang.en.stop_words import STOP_WORDS"
   ]
  },
  {
   "cell_type": "code",
   "execution_count": 4,
   "metadata": {},
   "outputs": [],
   "source": [
    "from __future__ import unicode_literals\n",
    "import spacy,en_core_web_sm\n",
    "from collections import Counter"
   ]
  },
  {
   "cell_type": "code",
   "execution_count": 5,
   "metadata": {},
   "outputs": [],
   "source": [
    "db = \"../data/yelp/yelp.db\"\n",
    "table_name = \"Reviews\""
   ]
  },
  {
   "cell_type": "code",
   "execution_count": null,
   "metadata": {},
   "outputs": [],
   "source": [
    "# Create your connection.\n",
    "cnx = sqlite.connect(db)\n",
    "\n",
    "df = pd.read_sql_query(\"SELECT * FROM Reviews\", cnx)"
   ]
  },
  {
   "cell_type": "code",
   "execution_count": null,
   "metadata": {},
   "outputs": [],
   "source": [
    "df.head()"
   ]
  },
  {
   "cell_type": "code",
   "execution_count": null,
   "metadata": {},
   "outputs": [],
   "source": [
    "len(df)"
   ]
  },
  {
   "cell_type": "code",
   "execution_count": null,
   "metadata": {},
   "outputs": [],
   "source": [
    "nlp = spacy.load('en')"
   ]
  },
  {
   "cell_type": "code",
   "execution_count": null,
   "metadata": {},
   "outputs": [],
   "source": [
    "# for index, row in metadata_df.iterrows():\n",
    "#     text = row[\"text\"]\n",
    "    \n",
    "text = trial1\n",
    "    \n",
    "# #first removing -- \n",
    "# text = re.sub(r\"-+\",\" \", text)\n",
    "\n",
    "# #remove non-alphabeticals\n",
    "# reg_text = re.sub(r'[^\\w\\s]', ' ', text)\n",
    "\n",
    "# #remove line breaks\n",
    "# reg_nolines = reg_text.replace(os.linesep, \" \")\n",
    "\n",
    "# #remove tabs, and other whitespace chars\n",
    "# no_tabs = re.sub(r\"\\s+\", \" \", reg_nolines)\n",
    "\n",
    "# #remove numbers\n",
    "# no_nums = re.sub(r'[0-9]', '', no_tabs)\n",
    "\n",
    "# #remove stopwords\n",
    "# words_nostop = \"\"\n",
    "# for word in no_nums.split():\n",
    "#     if word not in STOP_WORDS:\n",
    "#         words_nostop+= \" \" + word\n",
    "\n",
    "#     print(words_nostop)\n",
    "#     metadata_df.set_value(index, 'text', words_nostop)"
   ]
  },
  {
   "cell_type": "code",
   "execution_count": null,
   "metadata": {},
   "outputs": [],
   "source": [
    "doc = nlp(text)"
   ]
  },
  {
   "cell_type": "code",
   "execution_count": null,
   "metadata": {},
   "outputs": [],
   "source": [
    "for i in tqdm.tqdm(df.loc[:, \"text\"].head(10)):\n",
    "    print(i)\n",
    "    print(\"******\")"
   ]
  },
  {
   "cell_type": "code",
   "execution_count": null,
   "metadata": {},
   "outputs": [],
   "source": [
    "number_tokens"
   ]
  },
  {
   "cell_type": "code",
   "execution_count": 30,
   "metadata": {},
   "outputs": [
    {
     "name": "stdout",
     "output_type": "stream",
     "text": [
      "Total total ADJ JJ amod Xxxxx True False\n",
      "bill bill NOUN NN ROOT xxxx True False\n",
      "for for ADP IN prep xxx True True\n",
      "this this DET DT det xxxx True True\n",
      "horrible horrible ADJ JJ amod xxxx True False\n",
      "service service NOUN NN pobj xxxx True False\n",
      "? ? PUNCT . punct ? False False\n",
      "Over over ADP IN ROOT Xxxx True False\n",
      "$ $ SYM $ nmod $ False False\n",
      "8Gs 8gs NUM CD pobj dXx False False\n",
      ". . PUNCT . punct . False False\n",
      "These these DET DT det Xxxxx True False\n",
      "crooks crook NOUN NNS nsubj xxxx True False\n",
      "actually actually ADV RB advmod xxxx True False\n",
      "had have VERB VBD ROOT xxx True True\n",
      "the the DET DT det xxx True True\n",
      "nerve nerve NOUN NN dobj xxxx True False\n",
      "to to PART TO aux xx True True\n",
      "charge charge VERB VB acl xxxx True False\n",
      "us -PRON- PRON PRP dative xx True True\n",
      "$ $ SYM $ nmod $ False False\n",
      "69 69 NUM CD dobj dd False False\n",
      "for for ADP IN prep xxx True True\n",
      "3 3 NUM CD nummod d False False\n",
      "pills pill NOUN NNS pobj xxxx True False\n",
      ". . PUNCT . punct . False False\n",
      "I -PRON- PRON PRP nsubj X True False\n",
      "checked check VERB VBD ROOT xxxx True False\n",
      "online online ADV RB advmod xxxx True False\n",
      "the the DET DT det xxx True True\n",
      "pills pill NOUN NNS nsubjpass xxxx True False\n",
      "can can VERB MD aux xxx True True\n",
      "be be VERB VB auxpass xx True True\n",
      "had have VERB VBN ccomp xxx True True\n",
      "for for ADP IN prep xxx True True\n",
      "19 19 NUM CD nummod dd False False\n",
      "cents cent NOUN NNS pobj xxxx True False\n",
      "EACH each DET DT appos XXXX True False\n",
      "! ! PUNCT . punct ! False False\n",
      "Avoid avoid VERB VB compound Xxxxx True False\n",
      "Hospital hospital NOUN NN nsubj Xxxxx True False\n",
      "ERs er NOUN NNS ROOT XXx True False\n",
      "at at ADP IN prep xx True True\n",
      "all all DET DT det xxx True True\n",
      "costs cost NOUN NNS pobj xxxx True False\n",
      ". . PUNCT . punct . False False\n"
     ]
    }
   ],
   "source": [
    "for token in doc:\n",
    "#     print(token.text, token.pos_)\n",
    "    print(token.text, token.lemma_, token.pos_, token.tag_, token.dep_,\n",
    "          token.shape_, token.is_alpha, token.is_stop)"
   ]
  },
  {
   "cell_type": "code",
   "execution_count": 165,
   "metadata": {},
   "outputs": [],
   "source": [
    "df = df.drop([\"pos_percentages\"], axis=1)"
   ]
  },
  {
   "cell_type": "code",
   "execution_count": 166,
   "metadata": {},
   "outputs": [],
   "source": [
    "subset1 = df.head(1000000).copy()"
   ]
  },
  {
   "cell_type": "code",
   "execution_count": 183,
   "metadata": {},
   "outputs": [
    {
     "data": {
      "text/plain": [
       "\"Wow. So surprised at the one and two star reviews!  We started with the most tender calamari. Although the marinara sauce was a bit bland, but a touch of salt made it just right. My husband had the veal with peppers and said it was so delicious and tender. The mashed potatoes were perfect. I had the salmon Diablo which was also delicious. Our salad was beautiful! Dressing was served on the salad and it was a nice amount. We ended our delicious meal with a piece of tiramisu. Our server Matt was right on!! Very pleasant and knowledgeable about the menu. Our appetizer, salad and entrees were timed perfectly. I love salad and did not mind that my entree was served while I was still eating it! No problem it let my dinner cool to just the right temp for me to eat it comfortably. \\nI wonder sometimes if people just don't appreciate relaxing and taking time to eat a wonderful and beautifully prepared meal.  A wonderful atmosphere. So relaxing. The chairs are super comfortable too!!! We will certainly be back. \\nGive it a try.  Don't  always go by the reviews. \\nA bottle of Riesling, calamari app, two delicious entrees and dessert for $92! \\nWell with it.\""
      ]
     },
     "execution_count": 183,
     "metadata": {},
     "output_type": "execute_result"
    }
   ],
   "source": [
    "subset1.at[10, \"text\"]"
   ]
  },
  {
   "cell_type": "code",
   "execution_count": null,
   "metadata": {},
   "outputs": [
    {
     "name": "stderr",
     "output_type": "stream",
     "text": [
      "  1%|▏         | 14316/1000000 [09:42<10:21:52, 26.42it/s]"
     ]
    }
   ],
   "source": [
    "nlp = en_core_web_sm.load()\n",
    "\n",
    "for i in tqdm.tqdm(subset1.index):\n",
    "#     print(i)\n",
    "    val= subset1.loc[i, \"text\"]\n",
    "    c = Counter(([token.pos_ for token in nlp(val)]))\n",
    "#     print(c)\n",
    "    pos_percent_dict = {}\n",
    "    for el, cnt in c.items():\n",
    "        pos_percent_dict[el] = '{0:2.4f}%'.format((cnt)/sum(c.values()))\n",
    "#     print(pos_percent_dict)\n",
    "#     print(type(i))\n",
    "    subset1.at[i, \"pos_percentages\"] = str(pos_percent_dict)\n",
    "\n",
    "#     subset.at[i, \"pos_percentages\"] = 0"
   ]
  },
  {
   "cell_type": "code",
   "execution_count": 154,
   "metadata": {},
   "outputs": [
    {
     "data": {
      "text/html": [
       "<div>\n",
       "<style scoped>\n",
       "    .dataframe tbody tr th:only-of-type {\n",
       "        vertical-align: middle;\n",
       "    }\n",
       "\n",
       "    .dataframe tbody tr th {\n",
       "        vertical-align: top;\n",
       "    }\n",
       "\n",
       "    .dataframe thead th {\n",
       "        text-align: right;\n",
       "    }\n",
       "</style>\n",
       "<table border=\"1\" class=\"dataframe\">\n",
       "  <thead>\n",
       "    <tr style=\"text-align: right;\">\n",
       "      <th></th>\n",
       "      <th>review_id</th>\n",
       "      <th>user_id</th>\n",
       "      <th>res_id</th>\n",
       "      <th>lat</th>\n",
       "      <th>lng</th>\n",
       "      <th>zipcode</th>\n",
       "      <th>review_year</th>\n",
       "      <th>review_date</th>\n",
       "      <th>text</th>\n",
       "      <th>useful</th>\n",
       "      <th>funny</th>\n",
       "      <th>cool</th>\n",
       "      <th>star</th>\n",
       "      <th>pos_percentages</th>\n",
       "      <th>pos_percentages2</th>\n",
       "    </tr>\n",
       "  </thead>\n",
       "  <tbody>\n",
       "    <tr>\n",
       "      <th>0</th>\n",
       "      <td>Q1sbwvVQXV2734tPgoKj4Q</td>\n",
       "      <td>hG7b0MtEbXx5QzbzE6C_VA</td>\n",
       "      <td>ujmEBvifdJM6h6RLv4wQIg</td>\n",
       "      <td>36.215546</td>\n",
       "      <td>-115.248798</td>\n",
       "      <td>89128</td>\n",
       "      <td>2013</td>\n",
       "      <td>2013-05-07 04:34:36</td>\n",
       "      <td>Total bill for this horrible service? Over $8G...</td>\n",
       "      <td>6</td>\n",
       "      <td>1</td>\n",
       "      <td>0</td>\n",
       "      <td>1.0</td>\n",
       "      <td>0.0</td>\n",
       "      <td>{'ADJ': '0.0435%', 'NOUN': '0.2174%', 'ADP': '...</td>\n",
       "    </tr>\n",
       "    <tr>\n",
       "      <th>1</th>\n",
       "      <td>GJXCdrto3ASJOqKeVWPi6Q</td>\n",
       "      <td>yXQM5uF2jS6es16SJzNHfg</td>\n",
       "      <td>NZnhc2sEQy3RmzKTZnqtwQ</td>\n",
       "      <td>36.110083</td>\n",
       "      <td>-115.153871</td>\n",
       "      <td>89169</td>\n",
       "      <td>2017</td>\n",
       "      <td>2017-01-14 21:30:33</td>\n",
       "      <td>I *adore* Travis at the Hard Rock's new Kelly ...</td>\n",
       "      <td>0</td>\n",
       "      <td>0</td>\n",
       "      <td>0</td>\n",
       "      <td>5.0</td>\n",
       "      <td>0.0</td>\n",
       "      <td>{'PRON': '0.0571%', 'PUNCT': '0.1021%', 'VERB'...</td>\n",
       "    </tr>\n",
       "    <tr>\n",
       "      <th>2</th>\n",
       "      <td>2TzJjDVDEuAW6MR5Vuc1ug</td>\n",
       "      <td>n6-Gk65cPZL6Uz8qRm3NYw</td>\n",
       "      <td>WTqjgwHlXbSFevF32_DJVw</td>\n",
       "      <td>33.259702</td>\n",
       "      <td>-111.790203</td>\n",
       "      <td>85286</td>\n",
       "      <td>2016</td>\n",
       "      <td>2016-11-09 20:09:03</td>\n",
       "      <td>I have to say that this office really has it t...</td>\n",
       "      <td>3</td>\n",
       "      <td>0</td>\n",
       "      <td>0</td>\n",
       "      <td>5.0</td>\n",
       "      <td>0.0</td>\n",
       "      <td>{'PRON': '0.0952%', 'VERB': '0.1667%', 'PART':...</td>\n",
       "    </tr>\n",
       "    <tr>\n",
       "      <th>3</th>\n",
       "      <td>11a8sVPMUFtaC7_ABRkmtw</td>\n",
       "      <td>ssoyf2_x0EQMed6fgHeMyQ</td>\n",
       "      <td>b1b1eb3uo-w561D0ZfCEiQ</td>\n",
       "      <td>33.496713</td>\n",
       "      <td>-111.927958</td>\n",
       "      <td>85251</td>\n",
       "      <td>2018</td>\n",
       "      <td>2018-01-30 23:07:38</td>\n",
       "      <td>Today was my second out of three sessions I ha...</td>\n",
       "      <td>7</td>\n",
       "      <td>0</td>\n",
       "      <td>0</td>\n",
       "      <td>1.0</td>\n",
       "      <td>0.0</td>\n",
       "      <td>{'NOUN': '0.1501%', 'VERB': '0.2154%', 'ADJ': ...</td>\n",
       "    </tr>\n",
       "    <tr>\n",
       "      <th>4</th>\n",
       "      <td>fdiNeiN_hoCxCMy2wTRW9g</td>\n",
       "      <td>w31MKYsNFMrjhWxxAb5wIw</td>\n",
       "      <td>eU_713ec6fTGNO4BegRaww</td>\n",
       "      <td>40.426779</td>\n",
       "      <td>-80.005652</td>\n",
       "      <td>15211</td>\n",
       "      <td>2013</td>\n",
       "      <td>2013-01-20 13:25:59</td>\n",
       "      <td>I'll be the first to admit that I was not exci...</td>\n",
       "      <td>0</td>\n",
       "      <td>0</td>\n",
       "      <td>0</td>\n",
       "      <td>4.0</td>\n",
       "      <td>0.0</td>\n",
       "      <td>{'PRON': '0.0809%', 'VERB': '0.1994%', 'DET': ...</td>\n",
       "    </tr>\n",
       "    <tr>\n",
       "      <th>5</th>\n",
       "      <td>8e9HxxLjjqc9ez5ezzN7iQ</td>\n",
       "      <td>d6xvYpyzcfbF_AZ8vMB7QA</td>\n",
       "      <td>zvO-PJCpNk4fgAVUnExYAA</td>\n",
       "      <td>33.633518</td>\n",
       "      <td>-111.924781</td>\n",
       "      <td>85254</td>\n",
       "      <td>2010</td>\n",
       "      <td>2010-10-05 19:12:35</td>\n",
       "      <td>This place has gone down hill.  Clearly they h...</td>\n",
       "      <td>3</td>\n",
       "      <td>1</td>\n",
       "      <td>1</td>\n",
       "      <td>1.0</td>\n",
       "      <td>0.0</td>\n",
       "      <td>{'DET': '0.0805%', 'NOUN': '0.1839%', 'VERB': ...</td>\n",
       "    </tr>\n",
       "    <tr>\n",
       "      <th>6</th>\n",
       "      <td>qrffudO73zsslZbe8B9D3Q</td>\n",
       "      <td>sG_h0dIzTKWa3Q6fmb4u-g</td>\n",
       "      <td>b2jN2mm9Wf3RcrZCgfo1cg</td>\n",
       "      <td>41.501475</td>\n",
       "      <td>-81.703239</td>\n",
       "      <td>44113</td>\n",
       "      <td>2015</td>\n",
       "      <td>2015-01-18 14:04:18</td>\n",
       "      <td>I was really looking forward to visiting after...</td>\n",
       "      <td>1</td>\n",
       "      <td>0</td>\n",
       "      <td>0</td>\n",
       "      <td>2.0</td>\n",
       "      <td>0.0</td>\n",
       "      <td>{'PRON': '0.0492%', 'VERB': '0.1902%', 'ADV': ...</td>\n",
       "    </tr>\n",
       "    <tr>\n",
       "      <th>7</th>\n",
       "      <td>RS_GTIT6836bCaPy637kNQ</td>\n",
       "      <td>nMeCE5-xsdleyxYuNZ_7rA</td>\n",
       "      <td>oxwGyA17NL6c5t1Etg5WgQ</td>\n",
       "      <td>36.065085</td>\n",
       "      <td>-115.174592</td>\n",
       "      <td>89119</td>\n",
       "      <td>2012</td>\n",
       "      <td>2012-02-29 21:52:43</td>\n",
       "      <td>It's a giant Best Buy with 66 registers.  I do...</td>\n",
       "      <td>1</td>\n",
       "      <td>0</td>\n",
       "      <td>1</td>\n",
       "      <td>3.0</td>\n",
       "      <td>0.0</td>\n",
       "      <td>{'PRON': '0.1071%', 'VERB': '0.1786%', 'DET': ...</td>\n",
       "    </tr>\n",
       "    <tr>\n",
       "      <th>8</th>\n",
       "      <td>kbtscdyz6lvrtGjD1quQTg</td>\n",
       "      <td>FIk4lQQu1eTe2EpzQ4xhBA</td>\n",
       "      <td>8mIrX_LrOnAqWsB5JrOojQ</td>\n",
       "      <td>36.101449</td>\n",
       "      <td>-115.130511</td>\n",
       "      <td>89119</td>\n",
       "      <td>2011</td>\n",
       "      <td>2011-11-30 02:11:15</td>\n",
       "      <td>Like walking back in time, every Saturday morn...</td>\n",
       "      <td>0</td>\n",
       "      <td>0</td>\n",
       "      <td>0</td>\n",
       "      <td>4.0</td>\n",
       "      <td>0.0</td>\n",
       "      <td>{'ADP': '0.0667%', 'VERB': '0.1800%', 'ADV': '...</td>\n",
       "    </tr>\n",
       "    <tr>\n",
       "      <th>9</th>\n",
       "      <td>-I5umRTkhw15RqpKMl_o1Q</td>\n",
       "      <td>-mA3-1mN4JIEkqOtdbNXCQ</td>\n",
       "      <td>mRUVMJkUGxrByzMQ2MuOpA</td>\n",
       "      <td>33.374948</td>\n",
       "      <td>-111.687080</td>\n",
       "      <td>85209</td>\n",
       "      <td>2017</td>\n",
       "      <td>2017-12-15 23:27:08</td>\n",
       "      <td>Walked in around 4 on a Friday afternoon, we s...</td>\n",
       "      <td>0</td>\n",
       "      <td>1</td>\n",
       "      <td>0</td>\n",
       "      <td>1.0</td>\n",
       "      <td>0.0</td>\n",
       "      <td>{'VERB': '0.1667%', 'ADV': '0.1275%', 'NUM': '...</td>\n",
       "    </tr>\n",
       "  </tbody>\n",
       "</table>\n",
       "</div>"
      ],
      "text/plain": [
       "                review_id                 user_id                  res_id  \\\n",
       "0  Q1sbwvVQXV2734tPgoKj4Q  hG7b0MtEbXx5QzbzE6C_VA  ujmEBvifdJM6h6RLv4wQIg   \n",
       "1  GJXCdrto3ASJOqKeVWPi6Q  yXQM5uF2jS6es16SJzNHfg  NZnhc2sEQy3RmzKTZnqtwQ   \n",
       "2  2TzJjDVDEuAW6MR5Vuc1ug  n6-Gk65cPZL6Uz8qRm3NYw  WTqjgwHlXbSFevF32_DJVw   \n",
       "3  11a8sVPMUFtaC7_ABRkmtw  ssoyf2_x0EQMed6fgHeMyQ  b1b1eb3uo-w561D0ZfCEiQ   \n",
       "4  fdiNeiN_hoCxCMy2wTRW9g  w31MKYsNFMrjhWxxAb5wIw  eU_713ec6fTGNO4BegRaww   \n",
       "5  8e9HxxLjjqc9ez5ezzN7iQ  d6xvYpyzcfbF_AZ8vMB7QA  zvO-PJCpNk4fgAVUnExYAA   \n",
       "6  qrffudO73zsslZbe8B9D3Q  sG_h0dIzTKWa3Q6fmb4u-g  b2jN2mm9Wf3RcrZCgfo1cg   \n",
       "7  RS_GTIT6836bCaPy637kNQ  nMeCE5-xsdleyxYuNZ_7rA  oxwGyA17NL6c5t1Etg5WgQ   \n",
       "8  kbtscdyz6lvrtGjD1quQTg  FIk4lQQu1eTe2EpzQ4xhBA  8mIrX_LrOnAqWsB5JrOojQ   \n",
       "9  -I5umRTkhw15RqpKMl_o1Q  -mA3-1mN4JIEkqOtdbNXCQ  mRUVMJkUGxrByzMQ2MuOpA   \n",
       "\n",
       "         lat         lng zipcode  review_year          review_date  \\\n",
       "0  36.215546 -115.248798   89128         2013  2013-05-07 04:34:36   \n",
       "1  36.110083 -115.153871   89169         2017  2017-01-14 21:30:33   \n",
       "2  33.259702 -111.790203   85286         2016  2016-11-09 20:09:03   \n",
       "3  33.496713 -111.927958   85251         2018  2018-01-30 23:07:38   \n",
       "4  40.426779  -80.005652   15211         2013  2013-01-20 13:25:59   \n",
       "5  33.633518 -111.924781   85254         2010  2010-10-05 19:12:35   \n",
       "6  41.501475  -81.703239   44113         2015  2015-01-18 14:04:18   \n",
       "7  36.065085 -115.174592   89119         2012  2012-02-29 21:52:43   \n",
       "8  36.101449 -115.130511   89119         2011  2011-11-30 02:11:15   \n",
       "9  33.374948 -111.687080   85209         2017  2017-12-15 23:27:08   \n",
       "\n",
       "                                                text  useful  funny  cool  \\\n",
       "0  Total bill for this horrible service? Over $8G...       6      1     0   \n",
       "1  I *adore* Travis at the Hard Rock's new Kelly ...       0      0     0   \n",
       "2  I have to say that this office really has it t...       3      0     0   \n",
       "3  Today was my second out of three sessions I ha...       7      0     0   \n",
       "4  I'll be the first to admit that I was not exci...       0      0     0   \n",
       "5  This place has gone down hill.  Clearly they h...       3      1     1   \n",
       "6  I was really looking forward to visiting after...       1      0     0   \n",
       "7  It's a giant Best Buy with 66 registers.  I do...       1      0     1   \n",
       "8  Like walking back in time, every Saturday morn...       0      0     0   \n",
       "9  Walked in around 4 on a Friday afternoon, we s...       0      1     0   \n",
       "\n",
       "   star  pos_percentages                                   pos_percentages2  \n",
       "0   1.0              0.0  {'ADJ': '0.0435%', 'NOUN': '0.2174%', 'ADP': '...  \n",
       "1   5.0              0.0  {'PRON': '0.0571%', 'PUNCT': '0.1021%', 'VERB'...  \n",
       "2   5.0              0.0  {'PRON': '0.0952%', 'VERB': '0.1667%', 'PART':...  \n",
       "3   1.0              0.0  {'NOUN': '0.1501%', 'VERB': '0.2154%', 'ADJ': ...  \n",
       "4   4.0              0.0  {'PRON': '0.0809%', 'VERB': '0.1994%', 'DET': ...  \n",
       "5   1.0              0.0  {'DET': '0.0805%', 'NOUN': '0.1839%', 'VERB': ...  \n",
       "6   2.0              0.0  {'PRON': '0.0492%', 'VERB': '0.1902%', 'ADV': ...  \n",
       "7   3.0              0.0  {'PRON': '0.1071%', 'VERB': '0.1786%', 'DET': ...  \n",
       "8   4.0              0.0  {'ADP': '0.0667%', 'VERB': '0.1800%', 'ADV': '...  \n",
       "9   1.0              0.0  {'VERB': '0.1667%', 'ADV': '0.1275%', 'NUM': '...  "
      ]
     },
     "execution_count": 154,
     "metadata": {},
     "output_type": "execute_result"
    }
   ],
   "source": [
    "subset"
   ]
  },
  {
   "cell_type": "code",
   "execution_count": 84,
   "metadata": {},
   "outputs": [
    {
     "data": {
      "text/plain": [
       "{'ADJ': '0.0435%',\n",
       " 'ADP': '0.1087%',\n",
       " 'ADV': '0.0435%',\n",
       " 'DET': '0.1304%',\n",
       " 'NOUN': '0.2174%',\n",
       " 'NUM': '0.0870%',\n",
       " 'PART': '0.0217%',\n",
       " 'PRON': '0.0435%',\n",
       " 'PUNCT': '0.1087%',\n",
       " 'SYM': '0.0435%',\n",
       " 'VERB': '0.1522%'}"
      ]
     },
     "execution_count": 84,
     "metadata": {},
     "output_type": "execute_result"
    }
   ],
   "source": [
    "pos_percent_dict"
   ]
  },
  {
   "cell_type": "code",
   "execution_count": null,
   "metadata": {},
   "outputs": [],
   "source": []
  },
  {
   "cell_type": "code",
   "execution_count": 12,
   "metadata": {},
   "outputs": [
    {
     "ename": "AttributeError",
     "evalue": "'DataFrame' object has no attribute 'description'",
     "output_type": "error",
     "traceback": [
      "\u001b[0;31m---------------------------------------------------------------------------\u001b[0m",
      "\u001b[0;31mAttributeError\u001b[0m                            Traceback (most recent call last)",
      "\u001b[0;32m<ipython-input-12-9eb24d488110>\u001b[0m in \u001b[0;36m<module>\u001b[0;34m()\u001b[0m\n\u001b[0;32m----> 1\u001b[0;31m \u001b[0mcols\u001b[0m \u001b[0;34m=\u001b[0m \u001b[0;34m[\u001b[0m\u001b[0mcolumn\u001b[0m\u001b[0;34m[\u001b[0m\u001b[0;36m0\u001b[0m\u001b[0;34m]\u001b[0m \u001b[0;32mfor\u001b[0m \u001b[0mcolumn\u001b[0m \u001b[0;32min\u001b[0m \u001b[0mdf\u001b[0m\u001b[0;34m.\u001b[0m\u001b[0mdescription\u001b[0m\u001b[0;34m]\u001b[0m\u001b[0;34m\u001b[0m\u001b[0;34m\u001b[0m\u001b[0m\n\u001b[0m",
      "\u001b[0;32m/Users/Jordan_Earnest/anaconda3/lib/python3.6/site-packages/pandas/core/generic.py\u001b[0m in \u001b[0;36m__getattr__\u001b[0;34m(self, name)\u001b[0m\n\u001b[1;32m   4374\u001b[0m             \u001b[0;32mif\u001b[0m \u001b[0mself\u001b[0m\u001b[0;34m.\u001b[0m\u001b[0m_info_axis\u001b[0m\u001b[0;34m.\u001b[0m\u001b[0m_can_hold_identifiers_and_holds_name\u001b[0m\u001b[0;34m(\u001b[0m\u001b[0mname\u001b[0m\u001b[0;34m)\u001b[0m\u001b[0;34m:\u001b[0m\u001b[0;34m\u001b[0m\u001b[0;34m\u001b[0m\u001b[0m\n\u001b[1;32m   4375\u001b[0m                 \u001b[0;32mreturn\u001b[0m \u001b[0mself\u001b[0m\u001b[0;34m[\u001b[0m\u001b[0mname\u001b[0m\u001b[0;34m]\u001b[0m\u001b[0;34m\u001b[0m\u001b[0;34m\u001b[0m\u001b[0m\n\u001b[0;32m-> 4376\u001b[0;31m             \u001b[0;32mreturn\u001b[0m \u001b[0mobject\u001b[0m\u001b[0;34m.\u001b[0m\u001b[0m__getattribute__\u001b[0m\u001b[0;34m(\u001b[0m\u001b[0mself\u001b[0m\u001b[0;34m,\u001b[0m \u001b[0mname\u001b[0m\u001b[0;34m)\u001b[0m\u001b[0;34m\u001b[0m\u001b[0;34m\u001b[0m\u001b[0m\n\u001b[0m\u001b[1;32m   4377\u001b[0m \u001b[0;34m\u001b[0m\u001b[0m\n\u001b[1;32m   4378\u001b[0m     \u001b[0;32mdef\u001b[0m \u001b[0m__setattr__\u001b[0m\u001b[0;34m(\u001b[0m\u001b[0mself\u001b[0m\u001b[0;34m,\u001b[0m \u001b[0mname\u001b[0m\u001b[0;34m,\u001b[0m \u001b[0mvalue\u001b[0m\u001b[0;34m)\u001b[0m\u001b[0;34m:\u001b[0m\u001b[0;34m\u001b[0m\u001b[0;34m\u001b[0m\u001b[0m\n",
      "\u001b[0;31mAttributeError\u001b[0m: 'DataFrame' object has no attribute 'description'"
     ]
    }
   ],
   "source": [
    "cols = [column[0] for column in df.description]"
   ]
  },
  {
   "cell_type": "code",
   "execution_count": null,
   "metadata": {},
   "outputs": [],
   "source": []
  }
 ],
 "metadata": {
  "kernelspec": {
   "display_name": "Python 3",
   "language": "python",
   "name": "python3"
  },
  "language_info": {
   "codemirror_mode": {
    "name": "ipython",
    "version": 3
   },
   "file_extension": ".py",
   "mimetype": "text/x-python",
   "name": "python",
   "nbconvert_exporter": "python",
   "pygments_lexer": "ipython3",
   "version": "3.6.5"
  }
 },
 "nbformat": 4,
 "nbformat_minor": 2
}
