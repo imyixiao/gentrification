{
 "cells": [
  {
   "cell_type": "code",
   "execution_count": 8,
   "metadata": {},
   "outputs": [],
   "source": [
    "import pandas as pd\n",
    "import sqlite3 as sqlite\n",
    "from sqlite3 import Error\n",
    "import sys\n",
    "import os\n",
    "import regex as re\n",
    "import sqlalchemy\n",
    "import tqdm\n",
    "\n",
    "# import PySpark\n",
    "\n",
    "# from pyspark import SparkConf, SparkContext"
   ]
  },
  {
   "cell_type": "code",
   "execution_count": 17,
   "metadata": {},
   "outputs": [],
   "source": [
    "import spacy\n",
    "from spacy.lang.en.stop_words import STOP_WORDS"
   ]
  },
  {
   "cell_type": "code",
   "execution_count": 35,
   "metadata": {},
   "outputs": [],
   "source": [
    "from __future__ import unicode_literals\n",
    "import spacy,en_core_web_sm\n",
    "from collections import Counter"
   ]
  },
  {
   "cell_type": "code",
   "execution_count": 2,
   "metadata": {},
   "outputs": [],
   "source": [
    "db = \"../data/yelp/yelp.db\"\n",
    "table_name = \"Reviews\""
   ]
  },
  {
   "cell_type": "code",
   "execution_count": 11,
   "metadata": {},
   "outputs": [],
   "source": [
    "# Create your connection.\n",
    "cnx = sqlite.connect(db)\n",
    "\n",
    "df = pd.read_sql_query(\"SELECT * FROM Reviews\", cnx)"
   ]
  },
  {
   "cell_type": "code",
   "execution_count": 13,
   "metadata": {},
   "outputs": [
    {
     "data": {
      "text/html": [
       "<div>\n",
       "<style scoped>\n",
       "    .dataframe tbody tr th:only-of-type {\n",
       "        vertical-align: middle;\n",
       "    }\n",
       "\n",
       "    .dataframe tbody tr th {\n",
       "        vertical-align: top;\n",
       "    }\n",
       "\n",
       "    .dataframe thead th {\n",
       "        text-align: right;\n",
       "    }\n",
       "</style>\n",
       "<table border=\"1\" class=\"dataframe\">\n",
       "  <thead>\n",
       "    <tr style=\"text-align: right;\">\n",
       "      <th></th>\n",
       "      <th>review_id</th>\n",
       "      <th>user_id</th>\n",
       "      <th>res_id</th>\n",
       "      <th>lat</th>\n",
       "      <th>lng</th>\n",
       "      <th>zipcode</th>\n",
       "      <th>review_year</th>\n",
       "      <th>review_date</th>\n",
       "      <th>text</th>\n",
       "      <th>useful</th>\n",
       "      <th>funny</th>\n",
       "      <th>cool</th>\n",
       "      <th>star</th>\n",
       "    </tr>\n",
       "  </thead>\n",
       "  <tbody>\n",
       "    <tr>\n",
       "      <th>0</th>\n",
       "      <td>Q1sbwvVQXV2734tPgoKj4Q</td>\n",
       "      <td>hG7b0MtEbXx5QzbzE6C_VA</td>\n",
       "      <td>ujmEBvifdJM6h6RLv4wQIg</td>\n",
       "      <td>36.215546</td>\n",
       "      <td>-115.248798</td>\n",
       "      <td>89128</td>\n",
       "      <td>2013</td>\n",
       "      <td>2013-05-07 04:34:36</td>\n",
       "      <td>Total bill for this horrible service? Over $8G...</td>\n",
       "      <td>6</td>\n",
       "      <td>1</td>\n",
       "      <td>0</td>\n",
       "      <td>1.0</td>\n",
       "    </tr>\n",
       "    <tr>\n",
       "      <th>1</th>\n",
       "      <td>GJXCdrto3ASJOqKeVWPi6Q</td>\n",
       "      <td>yXQM5uF2jS6es16SJzNHfg</td>\n",
       "      <td>NZnhc2sEQy3RmzKTZnqtwQ</td>\n",
       "      <td>36.110083</td>\n",
       "      <td>-115.153871</td>\n",
       "      <td>89169</td>\n",
       "      <td>2017</td>\n",
       "      <td>2017-01-14 21:30:33</td>\n",
       "      <td>I *adore* Travis at the Hard Rock's new Kelly ...</td>\n",
       "      <td>0</td>\n",
       "      <td>0</td>\n",
       "      <td>0</td>\n",
       "      <td>5.0</td>\n",
       "    </tr>\n",
       "    <tr>\n",
       "      <th>2</th>\n",
       "      <td>2TzJjDVDEuAW6MR5Vuc1ug</td>\n",
       "      <td>n6-Gk65cPZL6Uz8qRm3NYw</td>\n",
       "      <td>WTqjgwHlXbSFevF32_DJVw</td>\n",
       "      <td>33.259702</td>\n",
       "      <td>-111.790203</td>\n",
       "      <td>85286</td>\n",
       "      <td>2016</td>\n",
       "      <td>2016-11-09 20:09:03</td>\n",
       "      <td>I have to say that this office really has it t...</td>\n",
       "      <td>3</td>\n",
       "      <td>0</td>\n",
       "      <td>0</td>\n",
       "      <td>5.0</td>\n",
       "    </tr>\n",
       "    <tr>\n",
       "      <th>3</th>\n",
       "      <td>11a8sVPMUFtaC7_ABRkmtw</td>\n",
       "      <td>ssoyf2_x0EQMed6fgHeMyQ</td>\n",
       "      <td>b1b1eb3uo-w561D0ZfCEiQ</td>\n",
       "      <td>33.496713</td>\n",
       "      <td>-111.927958</td>\n",
       "      <td>85251</td>\n",
       "      <td>2018</td>\n",
       "      <td>2018-01-30 23:07:38</td>\n",
       "      <td>Today was my second out of three sessions I ha...</td>\n",
       "      <td>7</td>\n",
       "      <td>0</td>\n",
       "      <td>0</td>\n",
       "      <td>1.0</td>\n",
       "    </tr>\n",
       "    <tr>\n",
       "      <th>4</th>\n",
       "      <td>fdiNeiN_hoCxCMy2wTRW9g</td>\n",
       "      <td>w31MKYsNFMrjhWxxAb5wIw</td>\n",
       "      <td>eU_713ec6fTGNO4BegRaww</td>\n",
       "      <td>40.426779</td>\n",
       "      <td>-80.005652</td>\n",
       "      <td>15211</td>\n",
       "      <td>2013</td>\n",
       "      <td>2013-01-20 13:25:59</td>\n",
       "      <td>I'll be the first to admit that I was not exci...</td>\n",
       "      <td>0</td>\n",
       "      <td>0</td>\n",
       "      <td>0</td>\n",
       "      <td>4.0</td>\n",
       "    </tr>\n",
       "  </tbody>\n",
       "</table>\n",
       "</div>"
      ],
      "text/plain": [
       "                review_id                 user_id                  res_id  \\\n",
       "0  Q1sbwvVQXV2734tPgoKj4Q  hG7b0MtEbXx5QzbzE6C_VA  ujmEBvifdJM6h6RLv4wQIg   \n",
       "1  GJXCdrto3ASJOqKeVWPi6Q  yXQM5uF2jS6es16SJzNHfg  NZnhc2sEQy3RmzKTZnqtwQ   \n",
       "2  2TzJjDVDEuAW6MR5Vuc1ug  n6-Gk65cPZL6Uz8qRm3NYw  WTqjgwHlXbSFevF32_DJVw   \n",
       "3  11a8sVPMUFtaC7_ABRkmtw  ssoyf2_x0EQMed6fgHeMyQ  b1b1eb3uo-w561D0ZfCEiQ   \n",
       "4  fdiNeiN_hoCxCMy2wTRW9g  w31MKYsNFMrjhWxxAb5wIw  eU_713ec6fTGNO4BegRaww   \n",
       "\n",
       "         lat         lng zipcode  review_year          review_date  \\\n",
       "0  36.215546 -115.248798   89128         2013  2013-05-07 04:34:36   \n",
       "1  36.110083 -115.153871   89169         2017  2017-01-14 21:30:33   \n",
       "2  33.259702 -111.790203   85286         2016  2016-11-09 20:09:03   \n",
       "3  33.496713 -111.927958   85251         2018  2018-01-30 23:07:38   \n",
       "4  40.426779  -80.005652   15211         2013  2013-01-20 13:25:59   \n",
       "\n",
       "                                                text  useful  funny  cool  \\\n",
       "0  Total bill for this horrible service? Over $8G...       6      1     0   \n",
       "1  I *adore* Travis at the Hard Rock's new Kelly ...       0      0     0   \n",
       "2  I have to say that this office really has it t...       3      0     0   \n",
       "3  Today was my second out of three sessions I ha...       7      0     0   \n",
       "4  I'll be the first to admit that I was not exci...       0      0     0   \n",
       "\n",
       "   star  \n",
       "0   1.0  \n",
       "1   5.0  \n",
       "2   5.0  \n",
       "3   1.0  \n",
       "4   4.0  "
      ]
     },
     "execution_count": 13,
     "metadata": {},
     "output_type": "execute_result"
    }
   ],
   "source": [
    "df.head()"
   ]
  },
  {
   "cell_type": "code",
   "execution_count": 14,
   "metadata": {},
   "outputs": [],
   "source": [
    "trial1 = df.loc[0, \"text\"]"
   ]
  },
  {
   "cell_type": "code",
   "execution_count": 15,
   "metadata": {},
   "outputs": [
    {
     "data": {
      "text/plain": [
       "'Total bill for this horrible service? Over $8Gs. These crooks actually had the nerve to charge us $69 for 3 pills. I checked online the pills can be had for 19 cents EACH! Avoid Hospital ERs at all costs.'"
      ]
     },
     "execution_count": 15,
     "metadata": {},
     "output_type": "execute_result"
    }
   ],
   "source": [
    "trial1"
   ]
  },
  {
   "cell_type": "code",
   "execution_count": 18,
   "metadata": {},
   "outputs": [],
   "source": [
    "nlp = spacy.load('en')"
   ]
  },
  {
   "cell_type": "code",
   "execution_count": 20,
   "metadata": {},
   "outputs": [],
   "source": [
    "# for index, row in metadata_df.iterrows():\n",
    "#     text = row[\"text\"]\n",
    "    \n",
    "text = trial1\n",
    "    \n",
    "# #first removing -- \n",
    "# text = re.sub(r\"-+\",\" \", text)\n",
    "\n",
    "# #remove non-alphabeticals\n",
    "# reg_text = re.sub(r'[^\\w\\s]', ' ', text)\n",
    "\n",
    "# #remove line breaks\n",
    "# reg_nolines = reg_text.replace(os.linesep, \" \")\n",
    "\n",
    "# #remove tabs, and other whitespace chars\n",
    "# no_tabs = re.sub(r\"\\s+\", \" \", reg_nolines)\n",
    "\n",
    "# #remove numbers\n",
    "# no_nums = re.sub(r'[0-9]', '', no_tabs)\n",
    "\n",
    "# #remove stopwords\n",
    "# words_nostop = \"\"\n",
    "# for word in no_nums.split():\n",
    "#     if word not in STOP_WORDS:\n",
    "#         words_nostop+= \" \" + word\n",
    "\n",
    "#     print(words_nostop)\n",
    "#     metadata_df.set_value(index, 'text', words_nostop)"
   ]
  },
  {
   "cell_type": "code",
   "execution_count": 21,
   "metadata": {},
   "outputs": [
    {
     "data": {
      "text/plain": [
       "' Total bill horrible service Over Gs These crooks actually nerve charge pills I checked online pills cents EACH Avoid Hospital ERs costs'"
      ]
     },
     "execution_count": 21,
     "metadata": {},
     "output_type": "execute_result"
    }
   ],
   "source": [
    "words_nostop"
   ]
  },
  {
   "cell_type": "code",
   "execution_count": 22,
   "metadata": {},
   "outputs": [],
   "source": [
    "doc = nlp(text)"
   ]
  },
  {
   "cell_type": "code",
   "execution_count": 81,
   "metadata": {},
   "outputs": [
    {
     "name": "stderr",
     "output_type": "stream",
     "text": [
      "100%|██████████| 10/10 [00:00<00:00, 6761.73it/s]"
     ]
    },
    {
     "name": "stdout",
     "output_type": "stream",
     "text": [
      "Total bill for this horrible service? Over $8Gs. These crooks actually had the nerve to charge us $69 for 3 pills. I checked online the pills can be had for 19 cents EACH! Avoid Hospital ERs at all costs.\n",
      "******\n",
      "I *adore* Travis at the Hard Rock's new Kelly Cardenas Salon!  I'm always a fan of a great blowout and no stranger to the chains that offer this service; however, Travis has taken the flawless blowout to a whole new level!  \n",
      "\n",
      "Travis's greets you with his perfectly green swoosh in his otherwise perfectly styled black hair and a Vegas-worthy rockstar outfit.  Next comes the most relaxing and incredible shampoo -- where you get a full head message that could cure even the very worst migraine in minutes --- and the scented shampoo room.  Travis has freakishly strong fingers (in a good way) and use the perfect amount of pressure.  That was superb!  Then starts the glorious blowout... where not one, not two, but THREE people were involved in doing the best round-brush action my hair has ever seen.  The team of stylists clearly gets along extremely well, as it's evident from the way they talk to and help one another that it's really genuine and not some corporate requirement.  It was so much fun to be there! \n",
      "\n",
      "Next Travis started with the flat iron.  The way he flipped his wrist to get volume all around without over-doing it and making me look like a Texas pagent girl was admirable.  It's also worth noting that he didn't fry my hair -- something that I've had happen before with less skilled stylists.  At the end of the blowout & style my hair was perfectly bouncey and looked terrific.  The only thing better?  That this awesome blowout lasted for days! \n",
      "\n",
      "Travis, I will see you every single time I'm out in Vegas.  You make me feel beauuuutiful!\n",
      "******\n",
      "I have to say that this office really has it together, they are so organized and friendly!  Dr. J. Phillipp is a great dentist, very friendly and professional.  The dental assistants that helped in my procedure were amazing, Jewel and Bailey helped me to feel comfortable!  I don't have dental insurance, but they have this insurance through their office you can purchase for $80 something a year and this gave me 25% off all of my dental work, plus they helped me get signed up for care credit which I knew nothing about before this visit!  I highly recommend this office for the nice synergy the whole office has!\n",
      "******\n",
      "Today was my second out of three sessions I had paid for. Although my first session went well, I could tell Meredith had a particular enjoyment for her male clients over her female. However, I returned because she did my teeth fine and I was pleased with the results. When I went in today, I was in the whitening room with three other gentlemen. My appointment started out well, although, being a person who is in the service industry, I always attend to my female clientele first when a couple arrives. Unbothered by those signs, I waited my turn. She checked on me once after my original 30 minute timer to ask if I was ok. She attended my boyfriend on numerous occasions, as well as the other men, and would exit the room without even asking me or looking to see if I had any irritation. Half way through, another woman had showed up who she was explaining the deals to in the lobby. While she admits timers must be reset half way through the process, she reset my boyfriends, left, rest the gentleman furthest away from me who had time to come in, redeem his deal, get set, and gave his timer done, before me, then left, and at this point my time was at 10 minutes. So, she should have reset it 5 minutes ago, according to her. While I sat there patiently this whole time with major pain in my gums, i watched the time until the lamp shut off. Not only had she reset two others, explained deals to other guest, but she never once checked on my time. When my light turned off, I released the stance of my mouth to a more relaxed state, assuming I was only getting a thirty minute session instead of the usual 45, because she had yet to come in. At this point, the teeth formula was not only burning the gum she neglected for 25 minutes now, but it began to burn my lips. I began squealing and slapping my chair trying to get her attention from the other room in a panic. I was in so much pain, that by the time she entered the room I was already out of my chair. She finally then acknowledged me, and asked if she could put vitamin E on my gum burn (pictured below). At this point, she has treated two other gums burns, while neglecting me, and I was so irritated that I had to suffer, all I wanted was to leave. While I waited for my boyfriend, she kept harassing me about the issue. Saying, \"well burns come with teeth whitening.\" While I totally agree, and under justifiable circumstances would not be as irritate, it could have easily been avoid if she had checked on me even a second time, so I could let her know. Not only did she never check on my physical health, she couldn't even take two seconds to reset the timer, which she even admitted to me. Her accuse was that she was coming in to do it, but I had the light off for a solid two minutes before I couldn't stand the pain. She admitted it should be reset every 15 minutes, which means for 25 minutes she did not bother to help me at all. Her guest in the lobby then proceeded to attack me as well, simply because I wanted to leave after the way I was treated. I also expected a refund for not getting a complete session today, due to the neglect, and the fact I won't be returning for my last, she had failed to do that. She was even screaming from the door, and continued to until my boyfriend and I were down the steps. I have never in my life been more appalled by a grown woman's behavior, who claims to be in the business for \"10 years.\" Admit your wrongs, but don't make your guest feel unwelcome because you can't do you job properly.\n",
      "******\n",
      "I'll be the first to admit that I was not excited about going to La Tavolta. Being a food snob, when a group of friends suggested we go for dinner I looked online at the menu and to me there was nothing special and it seemed overpriced.  Im also not big on ordering pasta when I go out. Alas, I was outnumbered. Thank goodness! I ordered the sea bass special. It was to die for. Cooked perfectly, seasoned perfectly, perfect portion. I can not say enough good things about this dish. When the server asked how it was he seemed very proud of the dish and said, \" doesn't she (the chef) do an incredible job?\" She does. \n",
      "\n",
      "My hubby got the crab tortellini and also loved his. I heard \"mmmm this is so good\" from all around the table. Our waiter was super nice and even gave us free desserts because we were some of the last people in the restaurant. Service was very slow and the place was PACKED but we had our jugs of wine and a large group with good conversation so it didn't seem to bother anyone.\n",
      "\n",
      "So-\n",
      "\n",
      "Do order the calamari and fried zucchini appetizers. Leave out the mussels. \n",
      "\n",
      "If they have the sea bass special, I highly recommend it. The chicken parm and crab tortellini were also very good and very big. The chicken Romano was a bit bland. The house salads were teeny. \n",
      "\n",
      "Do make a reservation but still expect to wait for your food. Go with a large group of people and plan for it to be loud. Don't go with a date unless you're fighting and don't feel like hearing anything they have to say.  Ask to sit in the side room if it's available.\n",
      "******\n",
      "This place has gone down hill.  Clearly they have cut back on staff and food quality\n",
      "\n",
      "Many of the reviews were written before the menu changed.  I've been going for years and the food quality has gone down hill.\n",
      "\n",
      "The service is slow & my salad, which was $15, was as bad as it gets.\n",
      "\n",
      "It's just not worth spending the money on this place when there are so many other options.\n",
      "******\n",
      "I was really looking forward to visiting after having some of their beers. The \"Man O'War\" quickly became my favorite DIPA; the Rusulka Vanilla Stout is a good thick, sweet stout; and the Ironclad is a top notch IPA. \n",
      "The only big miss on their beers I've had is the Big Chuck Barleywine. It could probably benefit greatly with age, but at this age all there is to taste is the alcohol.  \n",
      "Nonetheless, I had enough to convince me that the other beers I hadn't had from them would be top notch... and they are! \n",
      "The reason for the 2 stars should not reflect the quality of the brewers, they obviously know their craft well! \n",
      "The servers are great and friendly.... but relying on two servers to wait on 100+ customers says a lot about how inexperienced management must be. In fact, after waiting 15 mins at a dirty table I was finally able to track down someone I guessed was an employee to let them know we were even there! \n",
      "After another 5+ mins, the GM finally stopped over to take our drink order. The smugness of this guy was amazing. The thought of offering a simple apology never seemed to enter into his head. \n",
      "This is the time a server finally stopped by to pick up the non-final check left by the party before us... who didn't seem very pleased when leaving. \n",
      "The toast & cheese was good, but by the time we were able to dig into their heartiest offering of food, saltines and butter may have been equally pleasing.\n",
      "******\n",
      "It's a giant Best Buy with 66 registers.  I don't get it.  What's the big deal about this place??\n",
      "******\n",
      "Like walking back in time, every Saturday morning my sister and I was in a bowling league and after we were done, we'd spend a few quarters playing the pin ball machines until our mother came to pick us up.\n",
      "\n",
      "My sister was daring and play the machines hard, she was afraid of that \"tilt\" showing up and freezing the game.  I, on the other hand was a bit more gentler and wanted to make sure I got my quarter's worth.\n",
      "\n",
      "This place has rows and rows of machines, some are really old and some are more of a mid 80's theme.  There is even a Ms pac man!  It was fun to spend an afternoon playing the machines and remembering all the fun of my early teen years.\n",
      "******\n",
      "Walked in around 4 on a Friday afternoon, we sat at a table just off the bar and walked out after 5 min or so. Don't even think they realized we walked in. However everyone at the bar noticed we walked in!!! Service was non existent at best. Not a good way for a new business to start out. Oh well, the location they are at has been about 5 different things over the past several years, so they will just be added to the list. SMDH!!!\n",
      "******\n"
     ]
    },
    {
     "name": "stderr",
     "output_type": "stream",
     "text": [
      "\n"
     ]
    }
   ],
   "source": [
    "for i in tqdm.tqdm(df.loc[:, \"text\"].head(10)):\n",
    "    print(i)\n",
    "    print(\"******\")"
   ]
  },
  {
   "cell_type": "code",
   "execution_count": null,
   "metadata": {},
   "outputs": [],
   "source": [
    "number_tokens"
   ]
  },
  {
   "cell_type": "code",
   "execution_count": 30,
   "metadata": {},
   "outputs": [
    {
     "name": "stdout",
     "output_type": "stream",
     "text": [
      "Total total ADJ JJ amod Xxxxx True False\n",
      "bill bill NOUN NN ROOT xxxx True False\n",
      "for for ADP IN prep xxx True True\n",
      "this this DET DT det xxxx True True\n",
      "horrible horrible ADJ JJ amod xxxx True False\n",
      "service service NOUN NN pobj xxxx True False\n",
      "? ? PUNCT . punct ? False False\n",
      "Over over ADP IN ROOT Xxxx True False\n",
      "$ $ SYM $ nmod $ False False\n",
      "8Gs 8gs NUM CD pobj dXx False False\n",
      ". . PUNCT . punct . False False\n",
      "These these DET DT det Xxxxx True False\n",
      "crooks crook NOUN NNS nsubj xxxx True False\n",
      "actually actually ADV RB advmod xxxx True False\n",
      "had have VERB VBD ROOT xxx True True\n",
      "the the DET DT det xxx True True\n",
      "nerve nerve NOUN NN dobj xxxx True False\n",
      "to to PART TO aux xx True True\n",
      "charge charge VERB VB acl xxxx True False\n",
      "us -PRON- PRON PRP dative xx True True\n",
      "$ $ SYM $ nmod $ False False\n",
      "69 69 NUM CD dobj dd False False\n",
      "for for ADP IN prep xxx True True\n",
      "3 3 NUM CD nummod d False False\n",
      "pills pill NOUN NNS pobj xxxx True False\n",
      ". . PUNCT . punct . False False\n",
      "I -PRON- PRON PRP nsubj X True False\n",
      "checked check VERB VBD ROOT xxxx True False\n",
      "online online ADV RB advmod xxxx True False\n",
      "the the DET DT det xxx True True\n",
      "pills pill NOUN NNS nsubjpass xxxx True False\n",
      "can can VERB MD aux xxx True True\n",
      "be be VERB VB auxpass xx True True\n",
      "had have VERB VBN ccomp xxx True True\n",
      "for for ADP IN prep xxx True True\n",
      "19 19 NUM CD nummod dd False False\n",
      "cents cent NOUN NNS pobj xxxx True False\n",
      "EACH each DET DT appos XXXX True False\n",
      "! ! PUNCT . punct ! False False\n",
      "Avoid avoid VERB VB compound Xxxxx True False\n",
      "Hospital hospital NOUN NN nsubj Xxxxx True False\n",
      "ERs er NOUN NNS ROOT XXx True False\n",
      "at at ADP IN prep xx True True\n",
      "all all DET DT det xxx True True\n",
      "costs cost NOUN NNS pobj xxxx True False\n",
      ". . PUNCT . punct . False False\n"
     ]
    }
   ],
   "source": [
    "for token in doc:\n",
    "#     print(token.text, token.pos_)\n",
    "    print(token.text, token.lemma_, token.pos_, token.tag_, token.dep_,\n",
    "          token.shape_, token.is_alpha, token.is_stop)"
   ]
  },
  {
   "cell_type": "code",
   "execution_count": 104,
   "metadata": {},
   "outputs": [],
   "source": [
    "subset = df.head(10).copy()"
   ]
  },
  {
   "cell_type": "code",
   "execution_count": 153,
   "metadata": {},
   "outputs": [
    {
     "name": "stderr",
     "output_type": "stream",
     "text": [
      " 30%|███       | 3/10 [00:00<00:00, 22.90it/s]"
     ]
    },
    {
     "name": "stdout",
     "output_type": "stream",
     "text": [
      "0\n",
      "<class 'dict'>\n",
      "1\n",
      "<class 'dict'>\n",
      "2\n",
      "<class 'dict'>\n",
      "3\n"
     ]
    },
    {
     "name": "stderr",
     "output_type": "stream",
     "text": [
      " 60%|██████    | 6/10 [00:00<00:00, 14.70it/s]"
     ]
    },
    {
     "name": "stdout",
     "output_type": "stream",
     "text": [
      "<class 'dict'>\n",
      "4\n",
      "<class 'dict'>\n",
      "5\n",
      "<class 'dict'>\n",
      "6\n",
      "<class 'dict'>\n",
      "7\n",
      "<class 'dict'>\n",
      "8\n"
     ]
    },
    {
     "name": "stderr",
     "output_type": "stream",
     "text": [
      "100%|██████████| 10/10 [00:00<00:00, 18.56it/s]"
     ]
    },
    {
     "name": "stdout",
     "output_type": "stream",
     "text": [
      "<class 'dict'>\n",
      "9\n",
      "<class 'dict'>\n"
     ]
    },
    {
     "name": "stderr",
     "output_type": "stream",
     "text": [
      "\n"
     ]
    }
   ],
   "source": [
    "nlp = en_core_web_sm.load()\n",
    "\n",
    "for i in tqdm.tqdm(subset.index):\n",
    "    print(i)\n",
    "    val= subset.loc[i, \"text\"]\n",
    "    c = Counter(([token.pos_ for token in nlp(val)]))\n",
    "    pos_percent_dict = {}\n",
    "    for el, cnt in c.items():\n",
    "        pos_percent_dict[el] = '{0:2.4f}%'.format((cnt)/sum(c.values()))\n",
    "    print(type(pos_percent_dict))\n",
    "    subset.at[i, \"pos_percentages2\"] = str(pos_percent_dict)\n",
    "#     subset.at[i, \"pos_percentages\"] = 0"
   ]
  },
  {
   "cell_type": "code",
   "execution_count": 154,
   "metadata": {},
   "outputs": [
    {
     "data": {
      "text/html": [
       "<div>\n",
       "<style scoped>\n",
       "    .dataframe tbody tr th:only-of-type {\n",
       "        vertical-align: middle;\n",
       "    }\n",
       "\n",
       "    .dataframe tbody tr th {\n",
       "        vertical-align: top;\n",
       "    }\n",
       "\n",
       "    .dataframe thead th {\n",
       "        text-align: right;\n",
       "    }\n",
       "</style>\n",
       "<table border=\"1\" class=\"dataframe\">\n",
       "  <thead>\n",
       "    <tr style=\"text-align: right;\">\n",
       "      <th></th>\n",
       "      <th>review_id</th>\n",
       "      <th>user_id</th>\n",
       "      <th>res_id</th>\n",
       "      <th>lat</th>\n",
       "      <th>lng</th>\n",
       "      <th>zipcode</th>\n",
       "      <th>review_year</th>\n",
       "      <th>review_date</th>\n",
       "      <th>text</th>\n",
       "      <th>useful</th>\n",
       "      <th>funny</th>\n",
       "      <th>cool</th>\n",
       "      <th>star</th>\n",
       "      <th>pos_percentages</th>\n",
       "      <th>pos_percentages2</th>\n",
       "    </tr>\n",
       "  </thead>\n",
       "  <tbody>\n",
       "    <tr>\n",
       "      <th>0</th>\n",
       "      <td>Q1sbwvVQXV2734tPgoKj4Q</td>\n",
       "      <td>hG7b0MtEbXx5QzbzE6C_VA</td>\n",
       "      <td>ujmEBvifdJM6h6RLv4wQIg</td>\n",
       "      <td>36.215546</td>\n",
       "      <td>-115.248798</td>\n",
       "      <td>89128</td>\n",
       "      <td>2013</td>\n",
       "      <td>2013-05-07 04:34:36</td>\n",
       "      <td>Total bill for this horrible service? Over $8G...</td>\n",
       "      <td>6</td>\n",
       "      <td>1</td>\n",
       "      <td>0</td>\n",
       "      <td>1.0</td>\n",
       "      <td>0.0</td>\n",
       "      <td>{'ADJ': '0.0435%', 'NOUN': '0.2174%', 'ADP': '...</td>\n",
       "    </tr>\n",
       "    <tr>\n",
       "      <th>1</th>\n",
       "      <td>GJXCdrto3ASJOqKeVWPi6Q</td>\n",
       "      <td>yXQM5uF2jS6es16SJzNHfg</td>\n",
       "      <td>NZnhc2sEQy3RmzKTZnqtwQ</td>\n",
       "      <td>36.110083</td>\n",
       "      <td>-115.153871</td>\n",
       "      <td>89169</td>\n",
       "      <td>2017</td>\n",
       "      <td>2017-01-14 21:30:33</td>\n",
       "      <td>I *adore* Travis at the Hard Rock's new Kelly ...</td>\n",
       "      <td>0</td>\n",
       "      <td>0</td>\n",
       "      <td>0</td>\n",
       "      <td>5.0</td>\n",
       "      <td>0.0</td>\n",
       "      <td>{'PRON': '0.0571%', 'PUNCT': '0.1021%', 'VERB'...</td>\n",
       "    </tr>\n",
       "    <tr>\n",
       "      <th>2</th>\n",
       "      <td>2TzJjDVDEuAW6MR5Vuc1ug</td>\n",
       "      <td>n6-Gk65cPZL6Uz8qRm3NYw</td>\n",
       "      <td>WTqjgwHlXbSFevF32_DJVw</td>\n",
       "      <td>33.259702</td>\n",
       "      <td>-111.790203</td>\n",
       "      <td>85286</td>\n",
       "      <td>2016</td>\n",
       "      <td>2016-11-09 20:09:03</td>\n",
       "      <td>I have to say that this office really has it t...</td>\n",
       "      <td>3</td>\n",
       "      <td>0</td>\n",
       "      <td>0</td>\n",
       "      <td>5.0</td>\n",
       "      <td>0.0</td>\n",
       "      <td>{'PRON': '0.0952%', 'VERB': '0.1667%', 'PART':...</td>\n",
       "    </tr>\n",
       "    <tr>\n",
       "      <th>3</th>\n",
       "      <td>11a8sVPMUFtaC7_ABRkmtw</td>\n",
       "      <td>ssoyf2_x0EQMed6fgHeMyQ</td>\n",
       "      <td>b1b1eb3uo-w561D0ZfCEiQ</td>\n",
       "      <td>33.496713</td>\n",
       "      <td>-111.927958</td>\n",
       "      <td>85251</td>\n",
       "      <td>2018</td>\n",
       "      <td>2018-01-30 23:07:38</td>\n",
       "      <td>Today was my second out of three sessions I ha...</td>\n",
       "      <td>7</td>\n",
       "      <td>0</td>\n",
       "      <td>0</td>\n",
       "      <td>1.0</td>\n",
       "      <td>0.0</td>\n",
       "      <td>{'NOUN': '0.1501%', 'VERB': '0.2154%', 'ADJ': ...</td>\n",
       "    </tr>\n",
       "    <tr>\n",
       "      <th>4</th>\n",
       "      <td>fdiNeiN_hoCxCMy2wTRW9g</td>\n",
       "      <td>w31MKYsNFMrjhWxxAb5wIw</td>\n",
       "      <td>eU_713ec6fTGNO4BegRaww</td>\n",
       "      <td>40.426779</td>\n",
       "      <td>-80.005652</td>\n",
       "      <td>15211</td>\n",
       "      <td>2013</td>\n",
       "      <td>2013-01-20 13:25:59</td>\n",
       "      <td>I'll be the first to admit that I was not exci...</td>\n",
       "      <td>0</td>\n",
       "      <td>0</td>\n",
       "      <td>0</td>\n",
       "      <td>4.0</td>\n",
       "      <td>0.0</td>\n",
       "      <td>{'PRON': '0.0809%', 'VERB': '0.1994%', 'DET': ...</td>\n",
       "    </tr>\n",
       "    <tr>\n",
       "      <th>5</th>\n",
       "      <td>8e9HxxLjjqc9ez5ezzN7iQ</td>\n",
       "      <td>d6xvYpyzcfbF_AZ8vMB7QA</td>\n",
       "      <td>zvO-PJCpNk4fgAVUnExYAA</td>\n",
       "      <td>33.633518</td>\n",
       "      <td>-111.924781</td>\n",
       "      <td>85254</td>\n",
       "      <td>2010</td>\n",
       "      <td>2010-10-05 19:12:35</td>\n",
       "      <td>This place has gone down hill.  Clearly they h...</td>\n",
       "      <td>3</td>\n",
       "      <td>1</td>\n",
       "      <td>1</td>\n",
       "      <td>1.0</td>\n",
       "      <td>0.0</td>\n",
       "      <td>{'DET': '0.0805%', 'NOUN': '0.1839%', 'VERB': ...</td>\n",
       "    </tr>\n",
       "    <tr>\n",
       "      <th>6</th>\n",
       "      <td>qrffudO73zsslZbe8B9D3Q</td>\n",
       "      <td>sG_h0dIzTKWa3Q6fmb4u-g</td>\n",
       "      <td>b2jN2mm9Wf3RcrZCgfo1cg</td>\n",
       "      <td>41.501475</td>\n",
       "      <td>-81.703239</td>\n",
       "      <td>44113</td>\n",
       "      <td>2015</td>\n",
       "      <td>2015-01-18 14:04:18</td>\n",
       "      <td>I was really looking forward to visiting after...</td>\n",
       "      <td>1</td>\n",
       "      <td>0</td>\n",
       "      <td>0</td>\n",
       "      <td>2.0</td>\n",
       "      <td>0.0</td>\n",
       "      <td>{'PRON': '0.0492%', 'VERB': '0.1902%', 'ADV': ...</td>\n",
       "    </tr>\n",
       "    <tr>\n",
       "      <th>7</th>\n",
       "      <td>RS_GTIT6836bCaPy637kNQ</td>\n",
       "      <td>nMeCE5-xsdleyxYuNZ_7rA</td>\n",
       "      <td>oxwGyA17NL6c5t1Etg5WgQ</td>\n",
       "      <td>36.065085</td>\n",
       "      <td>-115.174592</td>\n",
       "      <td>89119</td>\n",
       "      <td>2012</td>\n",
       "      <td>2012-02-29 21:52:43</td>\n",
       "      <td>It's a giant Best Buy with 66 registers.  I do...</td>\n",
       "      <td>1</td>\n",
       "      <td>0</td>\n",
       "      <td>1</td>\n",
       "      <td>3.0</td>\n",
       "      <td>0.0</td>\n",
       "      <td>{'PRON': '0.1071%', 'VERB': '0.1786%', 'DET': ...</td>\n",
       "    </tr>\n",
       "    <tr>\n",
       "      <th>8</th>\n",
       "      <td>kbtscdyz6lvrtGjD1quQTg</td>\n",
       "      <td>FIk4lQQu1eTe2EpzQ4xhBA</td>\n",
       "      <td>8mIrX_LrOnAqWsB5JrOojQ</td>\n",
       "      <td>36.101449</td>\n",
       "      <td>-115.130511</td>\n",
       "      <td>89119</td>\n",
       "      <td>2011</td>\n",
       "      <td>2011-11-30 02:11:15</td>\n",
       "      <td>Like walking back in time, every Saturday morn...</td>\n",
       "      <td>0</td>\n",
       "      <td>0</td>\n",
       "      <td>0</td>\n",
       "      <td>4.0</td>\n",
       "      <td>0.0</td>\n",
       "      <td>{'ADP': '0.0667%', 'VERB': '0.1800%', 'ADV': '...</td>\n",
       "    </tr>\n",
       "    <tr>\n",
       "      <th>9</th>\n",
       "      <td>-I5umRTkhw15RqpKMl_o1Q</td>\n",
       "      <td>-mA3-1mN4JIEkqOtdbNXCQ</td>\n",
       "      <td>mRUVMJkUGxrByzMQ2MuOpA</td>\n",
       "      <td>33.374948</td>\n",
       "      <td>-111.687080</td>\n",
       "      <td>85209</td>\n",
       "      <td>2017</td>\n",
       "      <td>2017-12-15 23:27:08</td>\n",
       "      <td>Walked in around 4 on a Friday afternoon, we s...</td>\n",
       "      <td>0</td>\n",
       "      <td>1</td>\n",
       "      <td>0</td>\n",
       "      <td>1.0</td>\n",
       "      <td>0.0</td>\n",
       "      <td>{'VERB': '0.1667%', 'ADV': '0.1275%', 'NUM': '...</td>\n",
       "    </tr>\n",
       "  </tbody>\n",
       "</table>\n",
       "</div>"
      ],
      "text/plain": [
       "                review_id                 user_id                  res_id  \\\n",
       "0  Q1sbwvVQXV2734tPgoKj4Q  hG7b0MtEbXx5QzbzE6C_VA  ujmEBvifdJM6h6RLv4wQIg   \n",
       "1  GJXCdrto3ASJOqKeVWPi6Q  yXQM5uF2jS6es16SJzNHfg  NZnhc2sEQy3RmzKTZnqtwQ   \n",
       "2  2TzJjDVDEuAW6MR5Vuc1ug  n6-Gk65cPZL6Uz8qRm3NYw  WTqjgwHlXbSFevF32_DJVw   \n",
       "3  11a8sVPMUFtaC7_ABRkmtw  ssoyf2_x0EQMed6fgHeMyQ  b1b1eb3uo-w561D0ZfCEiQ   \n",
       "4  fdiNeiN_hoCxCMy2wTRW9g  w31MKYsNFMrjhWxxAb5wIw  eU_713ec6fTGNO4BegRaww   \n",
       "5  8e9HxxLjjqc9ez5ezzN7iQ  d6xvYpyzcfbF_AZ8vMB7QA  zvO-PJCpNk4fgAVUnExYAA   \n",
       "6  qrffudO73zsslZbe8B9D3Q  sG_h0dIzTKWa3Q6fmb4u-g  b2jN2mm9Wf3RcrZCgfo1cg   \n",
       "7  RS_GTIT6836bCaPy637kNQ  nMeCE5-xsdleyxYuNZ_7rA  oxwGyA17NL6c5t1Etg5WgQ   \n",
       "8  kbtscdyz6lvrtGjD1quQTg  FIk4lQQu1eTe2EpzQ4xhBA  8mIrX_LrOnAqWsB5JrOojQ   \n",
       "9  -I5umRTkhw15RqpKMl_o1Q  -mA3-1mN4JIEkqOtdbNXCQ  mRUVMJkUGxrByzMQ2MuOpA   \n",
       "\n",
       "         lat         lng zipcode  review_year          review_date  \\\n",
       "0  36.215546 -115.248798   89128         2013  2013-05-07 04:34:36   \n",
       "1  36.110083 -115.153871   89169         2017  2017-01-14 21:30:33   \n",
       "2  33.259702 -111.790203   85286         2016  2016-11-09 20:09:03   \n",
       "3  33.496713 -111.927958   85251         2018  2018-01-30 23:07:38   \n",
       "4  40.426779  -80.005652   15211         2013  2013-01-20 13:25:59   \n",
       "5  33.633518 -111.924781   85254         2010  2010-10-05 19:12:35   \n",
       "6  41.501475  -81.703239   44113         2015  2015-01-18 14:04:18   \n",
       "7  36.065085 -115.174592   89119         2012  2012-02-29 21:52:43   \n",
       "8  36.101449 -115.130511   89119         2011  2011-11-30 02:11:15   \n",
       "9  33.374948 -111.687080   85209         2017  2017-12-15 23:27:08   \n",
       "\n",
       "                                                text  useful  funny  cool  \\\n",
       "0  Total bill for this horrible service? Over $8G...       6      1     0   \n",
       "1  I *adore* Travis at the Hard Rock's new Kelly ...       0      0     0   \n",
       "2  I have to say that this office really has it t...       3      0     0   \n",
       "3  Today was my second out of three sessions I ha...       7      0     0   \n",
       "4  I'll be the first to admit that I was not exci...       0      0     0   \n",
       "5  This place has gone down hill.  Clearly they h...       3      1     1   \n",
       "6  I was really looking forward to visiting after...       1      0     0   \n",
       "7  It's a giant Best Buy with 66 registers.  I do...       1      0     1   \n",
       "8  Like walking back in time, every Saturday morn...       0      0     0   \n",
       "9  Walked in around 4 on a Friday afternoon, we s...       0      1     0   \n",
       "\n",
       "   star  pos_percentages                                   pos_percentages2  \n",
       "0   1.0              0.0  {'ADJ': '0.0435%', 'NOUN': '0.2174%', 'ADP': '...  \n",
       "1   5.0              0.0  {'PRON': '0.0571%', 'PUNCT': '0.1021%', 'VERB'...  \n",
       "2   5.0              0.0  {'PRON': '0.0952%', 'VERB': '0.1667%', 'PART':...  \n",
       "3   1.0              0.0  {'NOUN': '0.1501%', 'VERB': '0.2154%', 'ADJ': ...  \n",
       "4   4.0              0.0  {'PRON': '0.0809%', 'VERB': '0.1994%', 'DET': ...  \n",
       "5   1.0              0.0  {'DET': '0.0805%', 'NOUN': '0.1839%', 'VERB': ...  \n",
       "6   2.0              0.0  {'PRON': '0.0492%', 'VERB': '0.1902%', 'ADV': ...  \n",
       "7   3.0              0.0  {'PRON': '0.1071%', 'VERB': '0.1786%', 'DET': ...  \n",
       "8   4.0              0.0  {'ADP': '0.0667%', 'VERB': '0.1800%', 'ADV': '...  \n",
       "9   1.0              0.0  {'VERB': '0.1667%', 'ADV': '0.1275%', 'NUM': '...  "
      ]
     },
     "execution_count": 154,
     "metadata": {},
     "output_type": "execute_result"
    }
   ],
   "source": [
    "subset"
   ]
  },
  {
   "cell_type": "code",
   "execution_count": 84,
   "metadata": {},
   "outputs": [
    {
     "data": {
      "text/plain": [
       "{'ADJ': '0.0435%',\n",
       " 'ADP': '0.1087%',\n",
       " 'ADV': '0.0435%',\n",
       " 'DET': '0.1304%',\n",
       " 'NOUN': '0.2174%',\n",
       " 'NUM': '0.0870%',\n",
       " 'PART': '0.0217%',\n",
       " 'PRON': '0.0435%',\n",
       " 'PUNCT': '0.1087%',\n",
       " 'SYM': '0.0435%',\n",
       " 'VERB': '0.1522%'}"
      ]
     },
     "execution_count": 84,
     "metadata": {},
     "output_type": "execute_result"
    }
   ],
   "source": [
    "pos_percent_dict"
   ]
  },
  {
   "cell_type": "code",
   "execution_count": null,
   "metadata": {},
   "outputs": [],
   "source": []
  },
  {
   "cell_type": "code",
   "execution_count": 12,
   "metadata": {},
   "outputs": [
    {
     "ename": "AttributeError",
     "evalue": "'DataFrame' object has no attribute 'description'",
     "output_type": "error",
     "traceback": [
      "\u001b[0;31m---------------------------------------------------------------------------\u001b[0m",
      "\u001b[0;31mAttributeError\u001b[0m                            Traceback (most recent call last)",
      "\u001b[0;32m<ipython-input-12-9eb24d488110>\u001b[0m in \u001b[0;36m<module>\u001b[0;34m()\u001b[0m\n\u001b[0;32m----> 1\u001b[0;31m \u001b[0mcols\u001b[0m \u001b[0;34m=\u001b[0m \u001b[0;34m[\u001b[0m\u001b[0mcolumn\u001b[0m\u001b[0;34m[\u001b[0m\u001b[0;36m0\u001b[0m\u001b[0;34m]\u001b[0m \u001b[0;32mfor\u001b[0m \u001b[0mcolumn\u001b[0m \u001b[0;32min\u001b[0m \u001b[0mdf\u001b[0m\u001b[0;34m.\u001b[0m\u001b[0mdescription\u001b[0m\u001b[0;34m]\u001b[0m\u001b[0;34m\u001b[0m\u001b[0;34m\u001b[0m\u001b[0m\n\u001b[0m",
      "\u001b[0;32m/Users/Jordan_Earnest/anaconda3/lib/python3.6/site-packages/pandas/core/generic.py\u001b[0m in \u001b[0;36m__getattr__\u001b[0;34m(self, name)\u001b[0m\n\u001b[1;32m   4374\u001b[0m             \u001b[0;32mif\u001b[0m \u001b[0mself\u001b[0m\u001b[0;34m.\u001b[0m\u001b[0m_info_axis\u001b[0m\u001b[0;34m.\u001b[0m\u001b[0m_can_hold_identifiers_and_holds_name\u001b[0m\u001b[0;34m(\u001b[0m\u001b[0mname\u001b[0m\u001b[0;34m)\u001b[0m\u001b[0;34m:\u001b[0m\u001b[0;34m\u001b[0m\u001b[0;34m\u001b[0m\u001b[0m\n\u001b[1;32m   4375\u001b[0m                 \u001b[0;32mreturn\u001b[0m \u001b[0mself\u001b[0m\u001b[0;34m[\u001b[0m\u001b[0mname\u001b[0m\u001b[0;34m]\u001b[0m\u001b[0;34m\u001b[0m\u001b[0;34m\u001b[0m\u001b[0m\n\u001b[0;32m-> 4376\u001b[0;31m             \u001b[0;32mreturn\u001b[0m \u001b[0mobject\u001b[0m\u001b[0;34m.\u001b[0m\u001b[0m__getattribute__\u001b[0m\u001b[0;34m(\u001b[0m\u001b[0mself\u001b[0m\u001b[0;34m,\u001b[0m \u001b[0mname\u001b[0m\u001b[0;34m)\u001b[0m\u001b[0;34m\u001b[0m\u001b[0;34m\u001b[0m\u001b[0m\n\u001b[0m\u001b[1;32m   4377\u001b[0m \u001b[0;34m\u001b[0m\u001b[0m\n\u001b[1;32m   4378\u001b[0m     \u001b[0;32mdef\u001b[0m \u001b[0m__setattr__\u001b[0m\u001b[0;34m(\u001b[0m\u001b[0mself\u001b[0m\u001b[0;34m,\u001b[0m \u001b[0mname\u001b[0m\u001b[0;34m,\u001b[0m \u001b[0mvalue\u001b[0m\u001b[0;34m)\u001b[0m\u001b[0;34m:\u001b[0m\u001b[0;34m\u001b[0m\u001b[0;34m\u001b[0m\u001b[0m\n",
      "\u001b[0;31mAttributeError\u001b[0m: 'DataFrame' object has no attribute 'description'"
     ]
    }
   ],
   "source": [
    "cols = [column[0] for column in df.description]"
   ]
  },
  {
   "cell_type": "code",
   "execution_count": null,
   "metadata": {},
   "outputs": [],
   "source": []
  }
 ],
 "metadata": {
  "kernelspec": {
   "display_name": "Python 3",
   "language": "python",
   "name": "python3"
  },
  "language_info": {
   "codemirror_mode": {
    "name": "ipython",
    "version": 3
   },
   "file_extension": ".py",
   "mimetype": "text/x-python",
   "name": "python",
   "nbconvert_exporter": "python",
   "pygments_lexer": "ipython3",
   "version": "3.6.8"
  }
 },
 "nbformat": 4,
 "nbformat_minor": 2
}
